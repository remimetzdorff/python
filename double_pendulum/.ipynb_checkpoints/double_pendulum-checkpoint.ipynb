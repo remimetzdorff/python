{
 "cells": [
  {
   "cell_type": "markdown",
   "metadata": {},
   "source": [
    "# Multiple pendulum"
   ]
  },
  {
   "cell_type": "markdown",
   "metadata": {},
   "source": [
    "https://jakevdp.github.io/blog/2017/03/08/triple-pendulum-chaos/"
   ]
  },
  {
   "cell_type": "code",
   "execution_count": 1,
   "metadata": {},
   "outputs": [
    {
     "name": "stdout",
     "output_type": "stream",
     "text": [
      "Populating the interactive namespace from numpy and matplotlib\n"
     ]
    }
   ],
   "source": [
    "%pylab qt\n",
    "#%matplotlib inline\n",
    "\n",
    "from sympy import symbols\n",
    "from sympy.physics import mechanics\n",
    "\n",
    "from sympy import Dummy, lambdify\n",
    "from scipy.integrate import odeint\n",
    "\n",
    "\n",
    "def integrate_pendulum(n, times,\n",
    "                       initial_positions=135,\n",
    "                       initial_velocities=0,\n",
    "                       lengths=None, masses=1):\n",
    "    \"\"\"Integrate a multi-pendulum with `n` sections\"\"\"\n",
    "    #-------------------------------------------------\n",
    "    # Step 1: construct the pendulum model\n",
    "    \n",
    "    # Generalized coordinates and velocities\n",
    "    # (in this case, angular positions & velocities of each mass) \n",
    "    q = mechanics.dynamicsymbols('q:{0}'.format(n))\n",
    "    u = mechanics.dynamicsymbols('u:{0}'.format(n))\n",
    "\n",
    "    # mass and length\n",
    "    m = symbols('m:{0}'.format(n))\n",
    "    l = symbols('l:{0}'.format(n))\n",
    "\n",
    "    # gravity and time symbols\n",
    "    g, t = symbols('g,t')\n",
    "    \n",
    "    #--------------------------------------------------\n",
    "    # Step 2: build the model using Kane's Method\n",
    "\n",
    "    # Create pivot point reference frame\n",
    "    A = mechanics.ReferenceFrame('A')\n",
    "    P = mechanics.Point('P')\n",
    "    P.set_vel(A, 0)\n",
    "\n",
    "    # lists to hold particles, forces, and kinetic ODEs\n",
    "    # for each pendulum in the chain\n",
    "    particles = []\n",
    "    forces = []\n",
    "    kinetic_odes = []\n",
    "\n",
    "    for i in range(n):\n",
    "        # Create a reference frame following the i^th mass\n",
    "        Ai = A.orientnew('A' + str(i), 'Axis', [q[i], A.z])\n",
    "        Ai.set_ang_vel(A, u[i] * A.z)\n",
    "\n",
    "        # Create a point in this reference frame\n",
    "        Pi = P.locatenew('P' + str(i), l[i] * Ai.x)\n",
    "        Pi.v2pt_theory(P, A, Ai)\n",
    "\n",
    "        # Create a new particle of mass m[i] at this point\n",
    "        Pai = mechanics.Particle('Pa' + str(i), Pi, m[i])\n",
    "        particles.append(Pai)\n",
    "\n",
    "        # Set forces & compute kinematic ODE\n",
    "        forces.append((Pi, m[i] * g * A.x))\n",
    "        kinetic_odes.append(q[i].diff(t) - u[i])\n",
    "\n",
    "        P = Pi\n",
    "\n",
    "    # Generate equations of motion\n",
    "    KM = mechanics.KanesMethod(A, q_ind=q, u_ind=u,\n",
    "                               kd_eqs=kinetic_odes)\n",
    "    fr, fr_star = KM.kanes_equations(forces, particles)\n",
    "    \n",
    "    #-----------------------------------------------------\n",
    "    # Step 3: numerically evaluate equations and integrate\n",
    "\n",
    "    # initial positions and velocities – assumed to be given in degrees\n",
    "    y0 = np.deg2rad(np.concatenate([np.broadcast_to(initial_positions, n),\n",
    "                                    np.broadcast_to(initial_velocities, n)]))\n",
    "        \n",
    "    # lengths and masses\n",
    "    if lengths is None:\n",
    "        lengths = np.ones(n) / n\n",
    "    lengths = np.broadcast_to(lengths, n)\n",
    "    masses = np.broadcast_to(masses, n)\n",
    "\n",
    "    # Fixed parameters: gravitational constant, lengths, and masses\n",
    "    parameters = [g] + list(l) + list(m)\n",
    "    parameter_vals = [9.81] + list(lengths) + list(masses)\n",
    "\n",
    "    # define symbols for unknown parameters\n",
    "    unknowns = [Dummy() for i in q + u]\n",
    "    unknown_dict = dict(zip(q + u, unknowns))\n",
    "    kds = KM.kindiffdict()\n",
    "\n",
    "    # substitute unknown symbols for qdot terms\n",
    "    mm_sym = KM.mass_matrix_full.subs(kds).subs(unknown_dict)\n",
    "    fo_sym = KM.forcing_full.subs(kds).subs(unknown_dict)\n",
    "\n",
    "    # create functions for numerical calculation \n",
    "    mm_func = lambdify(unknowns + parameters, mm_sym)\n",
    "    fo_func = lambdify(unknowns + parameters, fo_sym)\n",
    "\n",
    "    # function which computes the derivatives of parameters\n",
    "    def gradient(y, t, args):\n",
    "        vals = np.concatenate((y, args))\n",
    "        sol = np.linalg.solve(mm_func(*vals), fo_func(*vals))\n",
    "        return np.array(sol).T[0]\n",
    "\n",
    "    # ODE integration\n",
    "    return odeint(gradient, y0, times, args=(parameter_vals,))"
   ]
  },
  {
   "cell_type": "code",
   "execution_count": 2,
   "metadata": {},
   "outputs": [],
   "source": [
    "def get_xy_coords(p, lengths=None):\n",
    "    \"\"\"Get (x, y) coordinates from generalized coordinates p\"\"\"\n",
    "    p = np.atleast_2d(p)\n",
    "    n = p.shape[1] // 2\n",
    "    if lengths is None:\n",
    "        lengths = np.ones(n) / n\n",
    "    zeros = np.zeros(p.shape[0])[:, None]\n",
    "    x = np.hstack([zeros, lengths * np.sin(p[:, :n])])\n",
    "    y = np.hstack([zeros, -lengths * np.cos(p[:, :n])])\n",
    "    return np.cumsum(x, 1), np.cumsum(y, 1)"
   ]
  },
  {
   "cell_type": "code",
   "execution_count": 3,
   "metadata": {},
   "outputs": [
    {
     "name": "stderr",
     "output_type": "stream",
     "text": [
      "/Users/remimetzdorff/opt/anaconda3/lib/python3.8/site-packages/sympy/physics/mechanics/kane.py:533: SymPyDeprecationWarning: \n",
      "\n",
      "The kanes_equation() argument order has been deprecated since SymPy\n",
      "1.1. Use switched argument order to update your code, For example:\n",
      "kanes_equations(loads, bodies) > kanes_equations(bodies, loads).\n",
      "instead. See https://github.com/sympy/sympy/issues/10945 for more\n",
      "info.  The API for kanes_equations() has changed such that the loads\n",
      "(forces and torques) are now the second argument and is optional with\n",
      "None being the default.\n",
      "\n",
      "  SymPyDeprecationWarning(value='The API for kanes_equations() has changed such '\n"
     ]
    },
    {
     "data": {
      "text/plain": [
       "[<matplotlib.lines.Line2D at 0x7fa1011ac8e0>,\n",
       " <matplotlib.lines.Line2D at 0x7fa1011ac940>,\n",
       " <matplotlib.lines.Line2D at 0x7fa1011acac0>]"
      ]
     },
     "execution_count": 3,
     "metadata": {},
     "output_type": "execute_result"
    }
   ],
   "source": [
    "t = np.linspace(0, 10, 1000)\n",
    "p = integrate_pendulum(n=2, times=t)\n",
    "x, y = get_xy_coords(p)\n",
    "plt.plot(x,y)"
   ]
  },
  {
   "cell_type": "code",
   "execution_count": 4,
   "metadata": {},
   "outputs": [],
   "source": [
    "from matplotlib import animation\n",
    "\n",
    "def animate_pendulum(n):\n",
    "    t = np.linspace(0, 10, 200)\n",
    "    p = integrate_pendulum(n, t)\n",
    "    x, y = get_xy_coords(p)\n",
    "    \n",
    "    fig, ax = plt.subplots(figsize=(6, 6))\n",
    "    fig.subplots_adjust(left=0, right=1, bottom=0, top=1)\n",
    "    ax.axis('off')\n",
    "    ax.set(xlim=(-1, 1), ylim=(-1, 1))\n",
    "\n",
    "    line, = ax.plot([], [], 'o-', lw=2)\n",
    "\n",
    "    def init():\n",
    "        line.set_data([], [])\n",
    "        return line,\n",
    "\n",
    "    def animate(i):\n",
    "        line.set_data(x[i], y[i])\n",
    "        return line,\n",
    "\n",
    "    anim = animation.FuncAnimation(fig, animate, frames=len(t),\n",
    "                                   interval=1000 * t.max() / len(t),\n",
    "                                   blit=True, init_func=init)\n",
    "    plt.close(fig)\n",
    "    return anim"
   ]
  },
  {
   "cell_type": "code",
   "execution_count": 6,
   "metadata": {},
   "outputs": [
    {
     "name": "stderr",
     "output_type": "stream",
     "text": [
      "Traceback (most recent call last):\n",
      "  File \"/Users/remimetzdorff/opt/anaconda3/lib/python3.8/site-packages/matplotlib/cbook/__init__.py\", line 196, in process\n",
      "    func(*args, **kwargs)\n",
      "  File \"/Users/remimetzdorff/opt/anaconda3/lib/python3.8/site-packages/matplotlib/animation.py\", line 955, in _start\n",
      "    self.event_source.add_callback(self._step)\n",
      "AttributeError: 'NoneType' object has no attribute 'add_callback'\n"
     ]
    }
   ],
   "source": [
    "anim = animate_pendulum(2)"
   ]
  },
  {
   "cell_type": "code",
   "execution_count": null,
   "metadata": {},
   "outputs": [],
   "source": []
  }
 ],
 "metadata": {
  "kernelspec": {
   "display_name": "Python 3",
   "language": "python",
   "name": "python3"
  },
  "language_info": {
   "codemirror_mode": {
    "name": "ipython",
    "version": 3
   },
   "file_extension": ".py",
   "mimetype": "text/x-python",
   "name": "python",
   "nbconvert_exporter": "python",
   "pygments_lexer": "ipython3",
   "version": "3.8.3"
  }
 },
 "nbformat": 4,
 "nbformat_minor": 4
}
